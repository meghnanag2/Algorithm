{
  "nbformat": 4,
  "nbformat_minor": 0,
  "metadata": {
    "colab": {
      "provenance": []
    },
    "kernelspec": {
      "name": "python3",
      "display_name": "Python 3"
    },
    "language_info": {
      "name": "python"
    }
  },
  "cells": [
    {
      "cell_type": "markdown",
      "source": [
        "### **Implement Binary Tree and Binary Search Tree (BST).**"
      ],
      "metadata": {
        "id": "Yl3wc7xOSS-d"
      }
    },
    {
      "cell_type": "code",
      "execution_count": 135,
      "metadata": {
        "id": "oudO_11YbU5S"
      },
      "outputs": [],
      "source": [
        "class Node:\n",
        "    def __init__(self, key, left=None, right=None):\n",
        "        self.key = key\n",
        "        self.left = left\n",
        "        self.right = right\n",
        "\n",
        "    def __str__(self):\n",
        "        return str(self.key)\n",
        "\n",
        "    def display(self):\n",
        "        lines, *_ = self._display_aux()\n",
        "        for line in lines:\n",
        "            print(line)\n",
        "\n",
        "    def _display_aux(self):\n",
        "        \"\"\"Returns list of strings, width, height, and horizontal coordinate of the root.\"\"\"\n",
        "        # No child.\n",
        "        if self.right is None and self.left is None:\n",
        "            line = \"%s\" % self.key\n",
        "            width = len(line)\n",
        "            height = 1\n",
        "            middle = width // 2\n",
        "            return [line], width, height, middle\n",
        "        # Only left child.\n",
        "        if self.right is None:\n",
        "            lines, n, p, x = self.left._display_aux()\n",
        "            s = \"%s\" % self.key\n",
        "            u = len(s)\n",
        "            first_line = (x + 1) * \" \" + (n - x - 1) * \"_\" + s\n",
        "            second_line = x * \" \" + \"/\" + (n - x - 1 + u) * \" \"\n",
        "            shifted_lines = [line + u * \" \" for line in lines]\n",
        "            return [first_line, second_line] + shifted_lines, n + u, p + 2, n + u // 2\n",
        "        # Only right child.\n",
        "        if self.left is None:\n",
        "            lines, n, p, x = self.right._display_aux()\n",
        "            s = \"%s\" % self.key\n",
        "            u = len(s)\n",
        "            first_line = s + x * \"_\" + (n - x) * \" \"\n",
        "            second_line = (u + x) * \" \" + \"\\\\\" + (n - x - 1) * \" \"\n",
        "            shifted_lines = [u * \" \" + line for line in lines]\n",
        "            return [first_line, second_line] + shifted_lines, n + u, p + 2, u // 2\n",
        "        # Two children.\n",
        "        left, n, p, x = self.left._display_aux()\n",
        "        right, m, q, y = self.right._display_aux()\n",
        "        s = \"%s\" % self.key\n",
        "        u = len(s)\n",
        "        first_line = (x + 1) * \" \" + (n - x - 1) * \"_\" + s + y * \"_\" + (m - y) * \" \"\n",
        "        second_line = (\n",
        "            x * \" \" + \"/\" + (n - x - 1 + u + y) * \" \" + \"\\\\\" + (m - y - 1) * \" \"\n",
        "        )\n",
        "        if p < q:\n",
        "            left += [n * \" \"] * (q - p)\n",
        "        elif q < p:\n",
        "            right += [m * \" \"] * (p - q)\n",
        "        zipped_lines = zip(left, right)\n",
        "        lines = [first_line, second_line] + [a + u * \" \" + b for a, b in zipped_lines]\n",
        "        return lines, n + m + u, max(p, q) + 2, n + u // 2\n",
        "\n",
        "#3. Implement the three ways to traverse a binary three reviewed in class, Pre-order, Post-order, in-Order, then test your output.\n",
        "\n",
        "    def PrintPreOrder(self):\n",
        "        # Root -> Left -> Right\n",
        "        print(self.key, end=\" \")\n",
        "        if self.left:\n",
        "            self.left.PrintPreOrder()\n",
        "        if self.right:\n",
        "            self.right.PrintPreOrder()\n",
        "\n",
        "    def PrintInOrder(self):\n",
        "        # Left -> Root -> Right\n",
        "        if self.left:\n",
        "            self.left.PrintInOrder()\n",
        "        print(self.key, end=\" \")\n",
        "        if self.right:\n",
        "            self.right.PrintInOrder()\n",
        "\n",
        "    def PrintPostOrder(self):\n",
        "        # Left -> Right -> Root\n",
        "        if self.left:\n",
        "            self.left.PrintPostOrder()\n",
        "        if self.right:\n",
        "            self.right.PrintPostOrder()\n",
        "        print(self.key, end=\" \")\n"
      ]
    },
    {
      "cell_type": "markdown",
      "source": [
        "1. Create a rootNode with the initial value of 10, add one element, and print the result using a display function and print the node value only using the __str__ function"
      ],
      "metadata": {
        "id": "zF5WnWnsScf1"
      }
    },
    {
      "cell_type": "code",
      "source": [
        "rootNode=Node(10)\n",
        "print(rootNode)\n",
        "rootNode.display()\n"
      ],
      "metadata": {
        "colab": {
          "base_uri": "https://localhost:8080/"
        },
        "id": "QlgHIhnqb53l",
        "outputId": "59216115-290a-4933-ef92-8306fdc0dfd8"
      },
      "execution_count": 136,
      "outputs": [
        {
          "output_type": "stream",
          "name": "stdout",
          "text": [
            "10\n",
            "10\n"
          ]
        }
      ]
    },
    {
      "cell_type": "markdown",
      "source": [
        "2. Add two nodes (left and right) to the rootNode, test Pre-order, Post-order, in-Order methods."
      ],
      "metadata": {
        "id": "MaivdxfXSmoP"
      }
    },
    {
      "cell_type": "code",
      "source": [
        "root = Node(10)\n",
        "root.left = Node(5)\n",
        "root.right = Node(15)\n",
        "\n",
        "print(\"PreOrder is \")\n",
        "root.PrintPreOrder()\n",
        "\n",
        "print(\"\\nInOrder is\")\n",
        "root.PrintInOrder()\n",
        "\n",
        "print(\"\\nPostOrder is \")\n",
        "root.PrintPostOrder()\n",
        "\n",
        "print(\"\\n Tree :\")\n",
        "root.display()\n"
      ],
      "metadata": {
        "colab": {
          "base_uri": "https://localhost:8080/"
        },
        "id": "oEtZfwSRfXE2",
        "outputId": "0862fe92-4f1d-4cc9-bf13-1f21056cc37f"
      },
      "execution_count": 137,
      "outputs": [
        {
          "output_type": "stream",
          "name": "stdout",
          "text": [
            "PreOrder is \n",
            "10 5 15 \n",
            "InOrder is\n",
            "5 10 15 \n",
            "PostOrder is \n",
            "5 15 10 \n",
            " Tree :\n",
            " 10_ \n",
            "/   \\\n",
            "5  15\n"
          ]
        }
      ]
    },
    {
      "cell_type": "markdown",
      "source": [
        "4. Implement an insertBST function in a BST. Testing function with a new tree (calls randomBST) by adding 50/100 elements on an initial tree. Use a random function to generate numbers to be added to your tree. The initial value (root) can be a random number too. Display."
      ],
      "metadata": {
        "id": "ZfOn40qSTHv5"
      }
    },
    {
      "cell_type": "code",
      "source": [
        "def insertBST(node, key):\n",
        "   if node is None: return Node(key)\n",
        "   if key < node.key: node.left = insertBST(node.left, key)\n",
        "   else: node.right = insertBST(node.right, key)\n",
        "   return node"
      ],
      "metadata": {
        "id": "-Ge7644pdTWq"
      },
      "execution_count": 138,
      "outputs": []
    },
    {
      "cell_type": "code",
      "source": [
        "import random\n",
        "\n",
        "randomBST = Node(random.randint(0, 100))\n",
        "\n",
        "for i in range(10):\n",
        "    randomBST = insertBST(randomBST, random.randint(0, 100))\n"
      ],
      "metadata": {
        "id": "Q9oemqGVexGq"
      },
      "execution_count": 139,
      "outputs": []
    },
    {
      "cell_type": "code",
      "source": [
        "randomBST.display()"
      ],
      "metadata": {
        "colab": {
          "base_uri": "https://localhost:8080/"
        },
        "id": "RrfYfuZbhp7C",
        "outputId": "f6819712-8f7d-4805-bee9-c3430507150d"
      },
      "execution_count": 140,
      "outputs": [
        {
          "output_type": "stream",
          "name": "stdout",
          "text": [
            " ____________72_____ \n",
            "/                   \\\n",
            "4_____           __75\n",
            "      \\         /    \n",
            "   __47___     73_   \n",
            "  /       \\       \\  \n",
            " 23_     63_     73  \n",
            "    \\   /   \\        \n",
            "   36  59  64        \n"
          ]
        }
      ]
    },
    {
      "cell_type": "markdown",
      "source": [
        "5. Implement a searchBST function, parameters are the BST with a key. Return the node if it exists and None(null) if it does not exist. Test function with the randomBST built in step 4. Implement a Binary Search algorithm."
      ],
      "metadata": {
        "id": "jDLb1mldTWDd"
      }
    },
    {
      "cell_type": "code",
      "source": [
        "def searchBST(root, key):\n",
        "  if root is None or root.key == key: return root\n",
        "  if root.key < key: return searchBST(root.right, key)\n",
        "  return searchBST(root.left, key)"
      ],
      "metadata": {
        "id": "9RvSHrK_hMXF"
      },
      "execution_count": 141,
      "outputs": []
    },
    {
      "cell_type": "code",
      "source": [
        "print(searchBST(randomBST,73))"
      ],
      "metadata": {
        "colab": {
          "base_uri": "https://localhost:8080/"
        },
        "id": "s28CTh19h_H6",
        "outputId": "ae6a0a53-f54d-4dc4-ad1c-3a46b2233f49"
      },
      "execution_count": 142,
      "outputs": [
        {
          "output_type": "stream",
          "name": "stdout",
          "text": [
            "73\n"
          ]
        }
      ]
    },
    {
      "cell_type": "markdown",
      "source": [
        "6. Rotate to the left and Rotate to the Right\n",
        "\n",
        "Implement the functions to leftRotation and rightRotation."
      ],
      "metadata": {
        "id": "O0bG9W2HTi7b"
      }
    },
    {
      "cell_type": "code",
      "source": [
        " def rightRotation(node):\n",
        "    if node is None or node.left is None:\n",
        "        return node\n",
        "    # left child will become the new root of this subtree\n",
        "    newRoot = node.left\n",
        "    # The new root's right child will move to become the left child of the current node\n",
        "    node.left = newRoot.right\n",
        "    # The current node will be the right child of the new root\n",
        "    newRoot.right = node\n",
        "    return newRoot\n",
        "\n",
        "\n",
        "\n",
        " def leftRotation(node):\n",
        "    if node is None or node.right is None:\n",
        "        return node\n",
        "    # right child will become the new root of this subtree\n",
        "    newRoot = node.right\n",
        "    # The new root's left child will move to become the right child of the current node\n",
        "    node.right = newRoot.left\n",
        "    # The current node becomes the left child of the new root\n",
        "    newRoot.left = node\n",
        "    return newRoot\n"
      ],
      "metadata": {
        "id": "7poCsRg0iEuM"
      },
      "execution_count": 143,
      "outputs": []
    },
    {
      "cell_type": "code",
      "source": [
        "tree1=Node(10)\n",
        "insertBST(tree1,20)\n",
        "insertBST(tree1,30)\n",
        "insertBST(tree1,40)\n",
        "tree1.display()\n",
        "tree1=leftRotation(tree1)\n",
        "tree1.display()"
      ],
      "metadata": {
        "colab": {
          "base_uri": "https://localhost:8080/"
        },
        "id": "WzN-O0EAAzGg",
        "outputId": "1308f722-4225-4010-a703-c77a6e197929"
      },
      "execution_count": 144,
      "outputs": [
        {
          "output_type": "stream",
          "name": "stdout",
          "text": [
            "10_     \n",
            "   \\    \n",
            "  20_   \n",
            "     \\  \n",
            "    30_ \n",
            "       \\\n",
            "      40\n",
            "  20_   \n",
            " /   \\  \n",
            "10  30_ \n",
            "       \\\n",
            "      40\n"
          ]
        }
      ]
    },
    {
      "cell_type": "code",
      "source": [
        "tree2=Node(10)\n",
        "insertBST(tree2,9)\n",
        "insertBST(tree2,8)\n",
        "insertBST(tree2,7)\n",
        "tree2.display()\n",
        "tree2=rightRotation(tree2)\n",
        "tree2.display()"
      ],
      "metadata": {
        "colab": {
          "base_uri": "https://localhost:8080/"
        },
        "id": "uNsS6Of3FFMX",
        "outputId": "88fc8f2e-1fea-40f9-f748-954e33963005"
      },
      "execution_count": 145,
      "outputs": [
        {
          "output_type": "stream",
          "name": "stdout",
          "text": [
            "   10\n",
            "  /  \n",
            "  9  \n",
            " /   \n",
            " 8   \n",
            "/    \n",
            "7    \n",
            "  9_ \n",
            " /  \\\n",
            " 8 10\n",
            "/    \n",
            "7    \n"
          ]
        }
      ]
    },
    {
      "cell_type": "markdown",
      "source": [
        "7. Find the height of a root.  The function will return the longest branch size. The function will return 0 if there are no left/right nodes for a root."
      ],
      "metadata": {
        "id": "RFMBTZ4jFivN"
      }
    },
    {
      "cell_type": "code",
      "source": [
        "def height(root):\n",
        "  if root is None:\n",
        "      return 0\n",
        "  left_height = height(root.left)\n",
        "  right_height = height(root.right)\n",
        "  return max(left_height, right_height) + 1"
      ],
      "metadata": {
        "id": "6Sp-YO5OITVt"
      },
      "execution_count": 146,
      "outputs": []
    },
    {
      "cell_type": "code",
      "source": [
        "root = Node(10)\n",
        "root.left = Node(5)\n",
        "root.right = Node(15)\n",
        "\n",
        "print(height(root))"
      ],
      "metadata": {
        "colab": {
          "base_uri": "https://localhost:8080/"
        },
        "id": "w6JwnD0NGHHY",
        "outputId": "ef88dbdb-4e0b-4539-e2f4-d9a5c673e233"
      },
      "execution_count": 147,
      "outputs": [
        {
          "output_type": "stream",
          "name": "stdout",
          "text": [
            "2\n"
          ]
        }
      ]
    },
    {
      "cell_type": "markdown",
      "source": [
        "8. Create a function to balance and an unbalancedBST or non-BST three. Call this function buildBST\n",
        "\n",
        "Tip: Create a list with nodes in order, then insert them into the tree using algorithms to ensure you always maintain the BST property.Create three functions: one to create a list, another to set up the initial root and then a recursive function to add nodes with appropaites left,right links."
      ],
      "metadata": {
        "id": "xCZky6yOTsAr"
      }
    },
    {
      "cell_type": "code",
      "source": [
        "def createListFromTree(root, listNodes):\n",
        "    # in-order traversal\n",
        "    if root:\n",
        "        createListFromTree(root.left, listNodes)\n",
        "        listNodes.append(root)\n",
        "        createListFromTree(root.right, listNodes)\n",
        "\n",
        "\n",
        "def buildBSTRecursive(listNodes, start, end):\n",
        "    # Recursively build a balanced BST from the sorted list of nodes\n",
        "    if start > end:\n",
        "        return None\n",
        "    mid = (start + end) // 2\n",
        "    node = listNodes[mid]\n",
        "    node.left = buildBSTRecursive(listNodes, start, mid - 1)\n",
        "    node.right = buildBSTRecursive(listNodes, mid + 1, end)\n",
        "    return node\n",
        "\n",
        "def buildBST(root):\n",
        "    listNodes = []\n",
        "    createListFromTree(root, listNodes)\n",
        "    return buildBSTRecursive(listNodes, 0, len(listNodes) - 1)\n"
      ],
      "metadata": {
        "id": "jgSqJbX1JemV"
      },
      "execution_count": 148,
      "outputs": []
    },
    {
      "cell_type": "code",
      "source": [
        "# Create an unbalanced BST\n",
        "root = Node(10)\n",
        "root = insertBST(root, 5)\n",
        "root = insertBST(root, 1)\n",
        "root = insertBST(root, 7)\n",
        "root = insertBST(root, 40)\n",
        "root = insertBST(root, 50)\n",
        "root = insertBST(root, 30)\n",
        "print(\"Original Tree:\")\n",
        "root.display()\n",
        "\n",
        "# Balance the BST\n",
        "balanced_root = buildBST(root)\n",
        "\n",
        "print(\"\\nBalanced Tree:\")\n",
        "balanced_root.display()\n"
      ],
      "metadata": {
        "colab": {
          "base_uri": "https://localhost:8080/"
        },
        "id": "p7SshxzLNVVD",
        "outputId": "edfbff09-b7a4-4c83-9b3e-7f164a10333f"
      },
      "execution_count": 149,
      "outputs": [
        {
          "output_type": "stream",
          "name": "stdout",
          "text": [
            "Original Tree:\n",
            "  _10___   \n",
            " /      \\  \n",
            " 5     40_ \n",
            "/ \\   /   \\\n",
            "1 7  30  50\n",
            "\n",
            "Balanced Tree:\n",
            "  _10___   \n",
            " /      \\  \n",
            " 5     40_ \n",
            "/ \\   /   \\\n",
            "1 7  30  50\n"
          ]
        }
      ]
    },
    {
      "cell_type": "markdown",
      "source": [
        "9. Delete a node from a BST and call it deleteNode.\n",
        "\n",
        "Tips: Cases:\n",
        "\n",
        "Case i.   The node to be deleted has no child (no left or right node)\n",
        "Case ii.  The node to be deleted has only one child, either the left node or the right node.\n",
        "Case iii. The node to be deleted has two children, left and right.\n"
      ],
      "metadata": {
        "id": "MqBU30YLT3uX"
      }
    },
    {
      "cell_type": "code",
      "source": [
        "def deleteNode(root, k):\n",
        "    if root is None:\n",
        "        return root\n",
        "    # Recurssive call if node of be deleted is not the current node\n",
        "    if k < root.key:\n",
        "        root.left = deleteNode(root.left, k)\n",
        "    elif k > root.key:\n",
        "        root.right = deleteNode(root.right, k)\n",
        "    else:\n",
        "        # Node to be deleted is current node\n",
        "\n",
        "        # Case I: Node has no children\n",
        "        if root.left is None and root.right is None:\n",
        "            return None\n",
        "\n",
        "        # Case II: Node has only one child\n",
        "        if root.left is None:\n",
        "            return root.right\n",
        "        elif root.right is None:\n",
        "            return root.left\n",
        "\n",
        "        # Case III: Node has two children\n",
        "        # Finding smallest node in the right subtree\n",
        "        temp = findMin(root.right)\n",
        "\n",
        "        # Copy the smallest node key to this node\n",
        "        root.key = temp.key\n",
        "\n",
        "        # Delete that node\n",
        "        root.right = deleteNode(root.right, temp.key)\n",
        "\n",
        "    return root\n",
        "\n",
        "def findMin(node):\n",
        "    # Find the node with the minimum key value.\n",
        "    current = node\n",
        "    while current.left is not None:\n",
        "        current = current.left\n",
        "    return current"
      ],
      "metadata": {
        "id": "3MouAUv1QD6n"
      },
      "execution_count": 150,
      "outputs": []
    },
    {
      "cell_type": "code",
      "source": [
        "# Delete a node with key 20\n",
        "root = deleteNode(root, 40)"
      ],
      "metadata": {
        "id": "Ludg6ycCRprM"
      },
      "execution_count": 151,
      "outputs": []
    },
    {
      "cell_type": "code",
      "source": [
        "balanced_root.display()"
      ],
      "metadata": {
        "colab": {
          "base_uri": "https://localhost:8080/"
        },
        "id": "U2hA0LhQRzKv",
        "outputId": "9a0bbfc7-7563-45b3-e80c-0bf630fb318e"
      },
      "execution_count": 152,
      "outputs": [
        {
          "output_type": "stream",
          "name": "stdout",
          "text": [
            "  _10___ \n",
            " /      \\\n",
            " 5     50\n",
            "/ \\   /  \n",
            "1 7  30  \n"
          ]
        }
      ]
    }
  ]
}