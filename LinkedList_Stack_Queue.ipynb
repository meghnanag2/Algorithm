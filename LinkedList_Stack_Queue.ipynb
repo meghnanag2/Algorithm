{
 "cells": [
  {
   "cell_type": "markdown",
   "metadata": {
    "id": "8gjeD0FSZPnr"
   },
   "source": [
    "### DoubleLinkedList, Stack, and Queue"
   ]
  },
  {
   "cell_type": "markdown",
   "metadata": {
    "id": "yS9csEjnZVvy"
   },
   "source": [
    "#### Implement the data structure and their main methods for: **SingleLinedList**, **DoubleLinkedList**, **Stack**, and **Queue**"
   ]
  },
  {
   "cell_type": "markdown",
   "metadata": {},
   "source": [
    "#### 1. Singly Linked List"
   ]
  },
  {
   "cell_type": "code",
   "execution_count": 9,
   "metadata": {},
   "outputs": [],
   "source": [
    "import random"
   ]
  },
  {
   "cell_type": "code",
   "execution_count": 1,
   "metadata": {},
   "outputs": [],
   "source": [
    "class Node:\n",
    "\n",
    "  def __init__(self, data=None):\n",
    "    self.data = data\n",
    "    self.next = None\n",
    "\n",
    "class LinkedList:\n",
    "\n",
    "  def __init__(self):\n",
    "    self.head = None\n",
    "\n",
    "  def display(self):\n",
    "    currNode = self.head\n",
    "    while currNode is not None:\n",
    "        print(f\"{currNode.data}->\", end=\" \")\n",
    "        currNode = currNode.next\n",
    "      \n",
    "  # 1. getAt(index)\n",
    "  def getAt(self, index):\n",
    "    if index == 0:\n",
    "        return self.head\n",
    "    currNode = self.head\n",
    "    i=0\n",
    "    while currNode is not None:\n",
    "        if i == index:\n",
    "            return currNode\n",
    "        else:\n",
    "            i += 1\n",
    "            currNode = currNode.next\n",
    "    return None\n",
    "\n",
    "  def push(self, data):  #add item at the front of the linked list\n",
    "    newNode = Node(data) \n",
    "    newNode.next = self.head\n",
    "    self.head = newNode\n",
    "       \n",
    "  def append(self,value): # Add items at the end of the linkedlist\n",
    "    currNode = self.head\n",
    "    newNode = Node(value)\n",
    "    if self.head is None:\n",
    "        self.head = newNode\n",
    "        return\n",
    "    while currNode.next is not None:\n",
    "        currNode = currNode.next\n",
    "    currNode.next = newNode\n",
    "    \n",
    "    \n",
    "  # 2. removeAt(index)\n",
    "  def removeAt(self, index):\n",
    "    currNode = self.head\n",
    "    if index < 0 or self.head is None:\n",
    "        return None\n",
    "    if index == 0:\n",
    "        self.head = currNode.next\n",
    "        currNode.next = None\n",
    "        return currNode\n",
    "    for _ in range(index-1):\n",
    "        if currNode.next is None:\n",
    "            return\n",
    "        currNode = currNode.next\n",
    "    if currNode.next is None:\n",
    "        return\n",
    "    removingNode = currNode.next\n",
    "    currNode.next = currNode.next.next\n",
    "    removingNode.next = None\n",
    "    return removingNode\n",
    "\n",
    "  def insertAt(self, index, value):\n",
    "    newNode = Node(value)\n",
    "    if index < 0 or self.head is None:\n",
    "        return\n",
    "    else:\n",
    "        if index == 0:\n",
    "            newNode.next = self.head\n",
    "            self.head = newNode\n",
    "            return \n",
    "        else:\n",
    "            currNode = self.head\n",
    "            for _ in range(index - 1):\n",
    "                if currNode is None:\n",
    "                    return \n",
    "                currNode = currNode.next\n",
    "            if currNode is None:\n",
    "                return\n",
    "            newNode.next = currNode.next\n",
    "            currNode.next = newNode     \n",
    "\n",
    "  def __str__(self): # implement the print method\n",
    "    if self.head.next is None:\n",
    "        return\n",
    "    currNode = self.head\n",
    "    while currNode is not None:\n",
    "        print(\"{}->\",format(currNode.data),end=\" \")\n",
    "        currNode = currNode.next\n",
    "    \n",
    "    \n",
    "\n",
    "  def len(self):  # implement the len method\n",
    "    if self.head.next is None:\n",
    "        return\n",
    "    currNode = self.head\n",
    "    list_len = 1\n",
    "    while currNode is not None:\n",
    "        currNode = currNode.next\n",
    "        list_len += list_len\n",
    "    print(\"The length of the List is:\", list_len)\n",
    "    \n",
    "  def reverse(self): #Reverse the list\n",
    "    if self.head is None:\n",
    "        return None\n",
    "    if self.head.next is None:\n",
    "        return self.head\n",
    "    prevNode = None\n",
    "    currNode = self.head\n",
    "    nextNode = currNode.next\n",
    "    while currNode is not None:\n",
    "        nextNode = currNode.next\n",
    "        currNode.next = prevNode\n",
    "        prevNode = currNode      \n",
    "        currNode = nextNode\n",
    "    self.head = prevNode\n",
    "    return self.head\n",
    "\n",
    "  def sort(self):\n",
    "        self.head = self.sortList(self.head)\n",
    "        return self.head\n",
    "    \n",
    "  def sortList(self, head):\n",
    "    if head is None or head.next is None:\n",
    "        return head\n",
    "    left = head\n",
    "    # get the middle element \n",
    "    mid = self.getMid(head)\n",
    "    right = mid.next\n",
    "    mid.next = None\n",
    "    # recurssive merge sort call\n",
    "    left = self.sortList(left)\n",
    "    right = self.sortList(right)\n",
    "    mergedList = self.merge(left, right)\n",
    "    return mergedList\n",
    "\n",
    "  def getMid(self, head):\n",
    "        slow, fast = head, head.next\n",
    "        while fast and fast.next:\n",
    "            slow = slow.next\n",
    "            fast = fast.next.next\n",
    "        return slow\n",
    "    \n",
    "  def merge(self, left, right):\n",
    "    dummy = Node()\n",
    "    currPnt = dummy\n",
    "    while left and right:\n",
    "        if left.data < right.data:\n",
    "            currPnt.next = left\n",
    "            left = left.next\n",
    "        else:\n",
    "            currPnt.next = right\n",
    "            right = right.next\n",
    "        currPnt = currPnt.next\n",
    "    if left:\n",
    "        currPnt.next = left\n",
    "    else:\n",
    "        currPnt.next = right    \n",
    "    return dummy.next\n",
    "    \n",
    "            \n",
    "  def get_length(self):\n",
    "    count = 0\n",
    "    current = self.head\n",
    "    while current:\n",
    "        count += 1\n",
    "        current = current.next\n",
    "    return count\n",
    "\n",
    "  def shuffle(self): #unsort the list. Every time you call this function, the list will shuffle again.\n",
    "    if self.head is None or self.head.next is None:\n",
    "        return self.head\n",
    "    length = self.get_length()\n",
    "    new_head = None\n",
    "    new_currNode = None\n",
    "    for i in range(length):\n",
    "        # Pick random index in the original list\n",
    "        random_index = random.randint(0, length - 1)\n",
    "        node = self.removeAt(random_index)\n",
    "        length -= 1\n",
    "        if node is None:\n",
    "            continue\n",
    "        node.next = None\n",
    "        if not new_head:\n",
    "            new_head = node\n",
    "            new_currNode = node\n",
    "        else:\n",
    "            new_currNode.next = node\n",
    "            new_currNode = node\n",
    "    \n",
    "    # Return the head of the new list\n",
    "    self.head = new_head\n",
    "    return new_head\n"
   ]
  },
  {
   "cell_type": "code",
   "execution_count": 2,
   "metadata": {},
   "outputs": [
    {
     "name": "stdout",
     "output_type": "stream",
     "text": [
      "2-> 15-> 6-> 4-> 5-> "
     ]
    }
   ],
   "source": [
    "ll = LinkedList()\n",
    "ll.push(5)\n",
    "ll.push(4)\n",
    "ll.push(6)\n",
    "ll.push(15)\n",
    "ll.push(2)\n",
    "\n",
    "ll.display()"
   ]
  },
  {
   "cell_type": "code",
   "execution_count": 3,
   "metadata": {},
   "outputs": [
    {
     "name": "stdout",
     "output_type": "stream",
     "text": [
      "2-> 15-> 6-> 4-> 5-> 2-> "
     ]
    }
   ],
   "source": [
    "ll.append(2)\n",
    "ll.display()"
   ]
  },
  {
   "cell_type": "code",
   "execution_count": 4,
   "metadata": {},
   "outputs": [
    {
     "name": "stdout",
     "output_type": "stream",
     "text": [
      "2-> 15-> 6-> 17-> 4-> 5-> 2-> "
     ]
    }
   ],
   "source": [
    "ll.insertAt(3, 17)\n",
    "ll.display()"
   ]
  },
  {
   "cell_type": "code",
   "execution_count": 5,
   "metadata": {},
   "outputs": [
    {
     "name": "stdout",
     "output_type": "stream",
     "text": [
      "2-> 15-> 17-> 4-> 5-> 2-> "
     ]
    }
   ],
   "source": [
    "ll.removeAt(2)\n",
    "ll.display()"
   ]
  },
  {
   "cell_type": "code",
   "execution_count": 6,
   "metadata": {},
   "outputs": [
    {
     "name": "stdout",
     "output_type": "stream",
     "text": [
      "{}-> 2 {}-> 5 {}-> 4 {}-> 17 {}-> 15 {}-> 2 "
     ]
    }
   ],
   "source": [
    "ll.reverse()\n",
    "ll.__str__()"
   ]
  },
  {
   "cell_type": "code",
   "execution_count": 7,
   "metadata": {},
   "outputs": [
    {
     "name": "stdout",
     "output_type": "stream",
     "text": [
      "{}-> 2 {}-> 2 {}-> 4 {}-> 5 {}-> 15 {}-> 17 "
     ]
    }
   ],
   "source": [
    "ll.sort()\n",
    "ll.__str__()"
   ]
  },
  {
   "cell_type": "code",
   "execution_count": 10,
   "metadata": {},
   "outputs": [
    {
     "name": "stdout",
     "output_type": "stream",
     "text": [
      "{}-> 2 {}-> 2 {}-> 15 {}-> 4 {}-> 17 {}-> 5 "
     ]
    }
   ],
   "source": [
    "ll.shuffle()\n",
    "ll.__str__()"
   ]
  },
  {
   "cell_type": "markdown",
   "metadata": {
    "id": "WsS6uPW1eY2n"
   },
   "source": [
    "#### 2. Double LinkedList"
   ]
  },
  {
   "cell_type": "markdown",
   "metadata": {
    "id": "qCR1JpJpexGm"
   },
   "source": [
    "Convert the singly LinkedList data structure to a double LinkedList. Ensure the methods are well implemented, most of them need to be modified.\n",
    "\n",
    "In addition, implement the following methods\n",
    "\n",
    "1. **sort**: Sort the list (ascend)\n",
    "2. **shuffle**: unsort the list. Every time you call this function, the list will shuffle again.\n",
    "3. **removeAt**(index): remove the *item* in the position *index*\n",
    "4. **insertAt**(index,value): Add a *item* in the position *index*\n",
    "5. **reverse**(): reverse de list\n",
    "\n",
    "\n"
   ]
  },
  {
   "cell_type": "code",
   "execution_count": 76,
   "metadata": {
    "id": "v-DUdr0nZbT3"
   },
   "outputs": [],
   "source": [
    "import random"
   ]
  },
  {
   "cell_type": "code",
   "execution_count": 77,
   "metadata": {
    "id": "KftJPf6zALie"
   },
   "outputs": [],
   "source": [
    "class NodeDouble:\n",
    "  def __init__(self, value):\n",
    "    self.data = value\n",
    "    self.next = None\n",
    "    self.prev = None\n",
    "\n",
    "class DoubleLinkedList:\n",
    "  def __init__(self):\n",
    "    self.head = None\n",
    "    self.tail = None\n",
    "\n",
    "\n",
    "  def push(self,data):  #add item at the front of the linked list\n",
    "    newNode = NodeDouble(data)\n",
    "    newNode.next = self.head\n",
    "    if self.head:\n",
    "    # if self.head is not None:\n",
    "        self.head.prev = newNode\n",
    "    else:\n",
    "        self.tail = newNode\n",
    "    self.head = newNode\n",
    "\n",
    "  def append(self,value): # Add items at the end of the linkedlist\n",
    "    newNode = NodeDouble(value)\n",
    "    if self.tail is None:\n",
    "        self.head = self.tail = newNode\n",
    "    else:\n",
    "        newNode.prev = self.tail\n",
    "        self.tail.next = newNode\n",
    "        self.tail = newNode\n",
    "\n",
    "  def __str__(self): # implement the print method\n",
    "    if self.head is None:\n",
    "        print(\"{} -> {}\", end=\"\\n\")\n",
    "        return\n",
    "    print(\"{}->\", end=\" \")\n",
    "\n",
    "    currNode = self.head\n",
    "    while currNode:\n",
    "        if currNode.next:\n",
    "            print(\"{} <->\".format(currNode.data), end=\" \")\n",
    "        else:\n",
    "            print(\"{}\".format(currNode.data), end=\" \")\n",
    "        currNode = currNode.next\n",
    "\n",
    "  def len(self):  # Return length\n",
    "    count = 0\n",
    "    curr = self.head\n",
    "    while curr:\n",
    "        count += 1\n",
    "        curr = curr.next\n",
    "    return count\n",
    "\n",
    "  def reverse(self): #Reverse the list\n",
    "    if self.head is None or self.head.next is None:\n",
    "        return self.head\n",
    "    prevNode = self.head\n",
    "    currNode = self.head.next\n",
    "    nextNode = currNode.next\n",
    "\n",
    "    prevNode.prev = currNode\n",
    "    prevNode.next = None\n",
    "\n",
    "    while currNode is not None:\n",
    "        currNode.next = prevNode\n",
    "        currNode.prev = nextNode\n",
    "\n",
    "        prevNode = currNode\n",
    "        currNode = nextNode\n",
    "\n",
    "        if nextNode is not None:\n",
    "            nextNode = nextNode.next\n",
    "    self.tail = self.head\n",
    "    self.head = prevNode\n",
    "    return self.head\n",
    "\n",
    "  def sort(self):  # Sort the list (ascend)\n",
    "    self.head = self.sortList(self.head)\n",
    "    return self.head\n",
    "\n",
    "  def sortList(self, head):\n",
    "    if head is None or head.next is None:\n",
    "        return head\n",
    "\n",
    "    mid = self.getMid(head)\n",
    "    right = mid.next\n",
    "    mid.next = None\n",
    "    if right:\n",
    "        right.prev = None\n",
    "\n",
    "    left = self.sortList(head)\n",
    "    right = self.sortList(right)\n",
    "    return self.merge(left, right)\n",
    "\n",
    "  def getMid(self, head):\n",
    "    slow, fast = head, head.next\n",
    "    while fast and fast.next:\n",
    "        slow = slow.next\n",
    "        fast = fast.next.next\n",
    "    return slow\n",
    "\n",
    "  def merge(self, left, right):\n",
    "    newhead = None\n",
    "    currPnt = None\n",
    "\n",
    "    while left and right:\n",
    "        if currPnt is None:\n",
    "            if left.data < right.data:\n",
    "                newhead = currPnt = left\n",
    "                left = left.next\n",
    "            else:\n",
    "                newhead = currPnt = right\n",
    "                right = right.next\n",
    "        else:\n",
    "            if left.data < right.data:\n",
    "                currPnt.next = left\n",
    "                left.prev = currPnt\n",
    "                currPnt = left\n",
    "                left = left.next\n",
    "            else:\n",
    "                currPnt.next = right\n",
    "                right.prev = currPnt\n",
    "                currPnt = right\n",
    "                right = right.next\n",
    "\n",
    "    remaining = left if left else right\n",
    "    if currPnt:\n",
    "        currPnt.next = remaining\n",
    "        if remaining:\n",
    "            remaining.prev = currPnt\n",
    "    else:\n",
    "        newhead = remaining\n",
    "\n",
    "    return newhead\n",
    "\n",
    "  def insertAt(self, index, value): #Add a item in the position index\n",
    "    if index < 0 or index > self.len():\n",
    "        return None\n",
    "\n",
    "    newNode = NodeDouble(value)\n",
    "    if index == 0:\n",
    "        newNode.next = self.head\n",
    "        if self.head:\n",
    "            self.head.prev = newNode\n",
    "        self.head = newNode\n",
    "        return\n",
    "\n",
    "    currNode = self.head\n",
    "    for _ in range(index - 1):\n",
    "        currNode = currNode.next\n",
    "\n",
    "    newNode.next = currNode.next\n",
    "    newNode.prev = currNode\n",
    "\n",
    "    if currNode.next:\n",
    "        currNode.next.prev = newNode\n",
    "    currNode.next = newNode\n",
    "\n",
    "\n",
    "  def removeAt(self, index): #remove the item in the position index\n",
    "    if index < 0 or index >= self.len():\n",
    "        return None\n",
    "\n",
    "    curr = self.head\n",
    "    if index == 0:\n",
    "        self.head = curr.next\n",
    "        if self.head:\n",
    "            self.head.prev = None\n",
    "        if curr == self.tail:\n",
    "            self.tail = None\n",
    "        curr.next = None\n",
    "        return curr\n",
    "\n",
    "    for _ in range(index):\n",
    "        curr = curr.next\n",
    "\n",
    "    if curr.prev:\n",
    "        curr.prev.next = curr.next\n",
    "    if curr.next:\n",
    "        curr.next.prev = curr.prev\n",
    "    if curr == self.tail:\n",
    "        self.tail = curr.prev\n",
    "\n",
    "    curr.prev = None\n",
    "    curr.next = None\n",
    "    return curr\n",
    "\n",
    "  def shuffle(self):  # unsort the list. Every time you call this function, the list will shuffle again.\n",
    "    if self.head is None or self.head.next is None:\n",
    "        return self.head\n",
    "\n",
    "    length = self.len()\n",
    "    new_head = None\n",
    "    new_currNode = None\n",
    "\n",
    "    for _ in range(length):\n",
    "        if self.len() == 0:\n",
    "            break\n",
    "        random_index = random.randint(0, self.len() - 1)\n",
    "        node = self.removeAt(random_index)\n",
    "        if node is None:\n",
    "            continue\n",
    "        node.next = None\n",
    "        node.prev = None\n",
    "\n",
    "        if not new_head:\n",
    "            new_head = node\n",
    "            new_currNode = node\n",
    "        else:\n",
    "            new_currNode.next = node\n",
    "            node.prev = new_currNode\n",
    "            new_currNode = node\n",
    "\n",
    "    self.head = new_head\n",
    "    self.tail = new_currNode\n",
    "    return new_head"
   ]
  },
  {
   "cell_type": "markdown",
   "metadata": {
    "id": "fF7DFRz5aLej"
   },
   "source": [
    "#### 3 FILO : Stack"
   ]
  },
  {
   "cell_type": "markdown",
   "metadata": {
    "id": "DJejm564aSyE"
   },
   "source": [
    "q2.1. Describe your approach, how to use linked list to implememnt the stack, singly linked list or double linked list, which one and why.\n",
    "\n",
    "q2.2 The implementation Code\n",
    "\n",
    "Implement a Stack Data Structure and the following basic methods:\n",
    "\n",
    "* **push(object)**: Inserts an object at the top of the Stack.\n",
    "* **pop()**: Removes and returns the object at the top of the Stack.\n",
    "* **peek()**: Returns the object at the top of the Stack without removing it.\n",
    "\n",
    "\n",
    "In addition to the basic methiods, implements : clear, display, count and toArray.\n",
    "\n",
    "* **clear()**: Removes all objects from the Stack.\n",
    "\n",
    "* **contains(Object)**: Determines whether an element is in the Stack.\n",
    "* **display()**: Returns a string that represents the current object. (Inherited from Object)\n",
    "* **ToArray()**: Copies the Stack to a new array."
   ]
  },
  {
   "cell_type": "markdown",
   "metadata": {
    "id": "f6cPEgV1yfcN"
   },
   "source": [
    "\n",
    "Q2.1 **Approach:**\n",
    "\n",
    "The goal here is to implement a stack using a linked list, where we represent each element as a node in the list, and the head of the list is the top of the stack.\n",
    "\n",
    "- The `push` operation adds a new node at the head of the list.  \n",
    "- The `pop` operation removes the node from the head of the list.  \n",
    "- The `peek` operation returns the top element, i.e., the node at the head of the list.\n",
    "\n",
    "This achieves the core property of a stack, where both `push` and `pop` operations occur from the same end and run in O(1) time complexity.\n",
    "\n",
    "I have used a singly linked list rather than a doubly linked list, as stack operations only require access to the top element. There is no need for a previous node reference, so the memory overhead to maintain this link is unnecessary.\n"
   ]
  },
  {
   "cell_type": "code",
   "execution_count": 78,
   "metadata": {
    "id": "MhhuNKmBPUTw"
   },
   "outputs": [],
   "source": [
    "# Q2.2\n",
    "## Elements to add in the Stack\n",
    "class ElementStack:\n",
    "  def __init__(self, data=None):\n",
    "    self.data = data\n",
    "    self.next = None\n",
    "\n",
    "#FILO - First In, Last Out\n",
    "class Stack:\n",
    "\n",
    "  def __init__(self): # add argument if apply\n",
    "    self.head=None\n",
    "\n",
    "  # Inserts an object at the top of the Stack.\n",
    "  def push(self, value):\n",
    "    newElmnt = ElementStack(value)\n",
    "    newElmnt.next = self.head\n",
    "    self.head = newElmnt\n",
    "\n",
    "    return self.head\n",
    "\n",
    "  # Removes and returns the object at the top of the Stack.\n",
    "  def pop(self):\n",
    "    if self.head is None:\n",
    "        return None\n",
    "    curNode = self.head\n",
    "    if self.head.next is None:\n",
    "        # Popping the last element\n",
    "        self.head = None\n",
    "        return curNode\n",
    "    else:\n",
    "        # Removing the top element and reassign head to the next node\n",
    "        self.head = curNode.next\n",
    "        return curNode\n",
    "\n",
    "  # Returns the object at the top of the Stack without removing it.\n",
    "  def peek(self):\n",
    "    if self.head is None:\n",
    "        return None\n",
    "    # Returning the top value\n",
    "    curNode = self.head\n",
    "    return curNode.data\n",
    "\n",
    "  #Removes all objects from the Stack.\n",
    "  def clear(self):\n",
    "    if self.head is None:\n",
    "        return None\n",
    "    # Assigning head to Null and thereby removing all nodes at once\n",
    "    self.head = None\n",
    "\n",
    "  # Returns a string that represents the current object. (Inherited from Object)\n",
    "  def display(self):\n",
    "    if self.head is None and self.head.next is None:\n",
    "        print(\"{} ->\", end=\"\\n\")\n",
    "        return\n",
    "    currNode = self.head\n",
    "    while currNode is not None:\n",
    "        print(\"{}->\",format(currNode.data),end=\" \")\n",
    "        currNode = currNode.next\n",
    "\n",
    "  #Determines whether an element is in the Stack.\n",
    "  def contains(self, value):\n",
    "    if self.head is None:\n",
    "        return False\n",
    "    currNode = self.head\n",
    "    while currNode is not None:\n",
    "        if currNode.data == value:\n",
    "            return True\n",
    "        currNode = currNode.next\n",
    "    return False\n",
    "\n",
    "  # Copies the Stack to a new array.\n",
    "  def toArray(self):\n",
    "    currNode = self.head\n",
    "    res_array = []\n",
    "    while currNode is not None:\n",
    "        res_array.append(currNode.data)\n",
    "        currNode = currNode.next\n",
    "    return res_array"
   ]
  },
  {
   "cell_type": "code",
   "execution_count": 79,
   "metadata": {
    "colab": {
     "base_uri": "https://localhost:8080/"
    },
    "id": "CH47IJ4v1haa",
    "outputId": "295a6740-ec71-49b0-8457-4156a79115ad"
   },
   "outputs": [
    {
     "data": {
      "text/plain": [
       "<__main__.ElementStack at 0x7c09345aead0>"
      ]
     },
     "execution_count": 79,
     "metadata": {},
     "output_type": "execute_result"
    }
   ],
   "source": [
    "ll_stack = Stack()\n",
    "ll_stack.push(12)\n",
    "ll_stack.push(3)\n",
    "ll_stack.push(7)\n",
    "ll_stack.push(5)\n",
    "ll_stack.push(23)\n",
    "ll_stack.push(47)\n",
    "ll_stack.push(50)"
   ]
  },
  {
   "cell_type": "code",
   "execution_count": 80,
   "metadata": {
    "colab": {
     "base_uri": "https://localhost:8080/"
    },
    "id": "g9GSjran1hhO",
    "outputId": "80a64c15-1f7e-4a1f-816c-daf0fe5963a4"
   },
   "outputs": [
    {
     "name": "stdout",
     "output_type": "stream",
     "text": [
      "{}-> 50 {}-> 47 {}-> 23 {}-> 5 {}-> 7 {}-> 3 {}-> 12 "
     ]
    }
   ],
   "source": [
    "ll_stack.display()"
   ]
  },
  {
   "cell_type": "code",
   "execution_count": 81,
   "metadata": {
    "colab": {
     "base_uri": "https://localhost:8080/"
    },
    "id": "TByovwRn1hmX",
    "outputId": "025b2a7c-89d9-4f88-8adb-176d03cb0e4b"
   },
   "outputs": [
    {
     "data": {
      "text/plain": [
       "23"
      ]
     },
     "execution_count": 81,
     "metadata": {},
     "output_type": "execute_result"
    }
   ],
   "source": [
    "ll_stack.pop()\n",
    "ll_stack.pop()\n",
    "ll_stack.peek()"
   ]
  },
  {
   "cell_type": "code",
   "execution_count": 82,
   "metadata": {
    "colab": {
     "base_uri": "https://localhost:8080/"
    },
    "id": "KltocCD61hnl",
    "outputId": "bd22a08f-c467-466f-de14-ece7b6ae4f85"
   },
   "outputs": [
    {
     "name": "stdout",
     "output_type": "stream",
     "text": [
      "{}-> 23 {}-> 5 {}-> 7 {}-> 3 {}-> 12 "
     ]
    }
   ],
   "source": [
    "ll_stack.display()"
   ]
  },
  {
   "cell_type": "code",
   "execution_count": 83,
   "metadata": {
    "colab": {
     "base_uri": "https://localhost:8080/"
    },
    "id": "66af4bPn1hwX",
    "outputId": "11f2a982-6c69-4146-e644-876fe11929f7"
   },
   "outputs": [
    {
     "name": "stdout",
     "output_type": "stream",
     "text": [
      "Stack contains 5\n"
     ]
    }
   ],
   "source": [
    "f = lambda x: f\"Stack contains {x}\" if ll_stack.contains(x) else f\"Stack does not contain {x}\"\n",
    "\n",
    "print(f(5))"
   ]
  },
  {
   "cell_type": "code",
   "execution_count": 84,
   "metadata": {
    "colab": {
     "base_uri": "https://localhost:8080/"
    },
    "id": "MIpprGVw1y-Z",
    "outputId": "ba05d546-de7b-418a-b00e-bc84d145f2de"
   },
   "outputs": [
    {
     "data": {
      "text/plain": [
       "[23, 5, 7, 3, 12]"
      ]
     },
     "execution_count": 84,
     "metadata": {},
     "output_type": "execute_result"
    }
   ],
   "source": [
    "ll_stack.toArray()"
   ]
  },
  {
   "cell_type": "markdown",
   "metadata": {
    "id": "BZ0ocSR-bp6A"
   },
   "source": [
    "#### 4. FIFO - Queue"
   ]
  },
  {
   "cell_type": "markdown",
   "metadata": {
    "id": "09SjF-7ScZPA"
   },
   "source": [
    "q3.1. Describe your approach, how to use linked list to implememnt the queue, singly linked list or double linked list, which one and why.\n",
    "\n",
    "q3.2 The implementation Code\n",
    "\n",
    "Implement the Queue Data Structure with the methods:\n",
    "Enqueue, Dequeue, Peek.\n",
    "\n",
    "* **Enqueue** adds an element to the end of the Queue.\n",
    "* **Dequeue** removes the oldest element from the start of the Queue.\n",
    "* **Peek** returns the oldest element that is at the start of the Queue but does not remove it from the Queue.\n",
    "\n",
    "In addition to the basic\n",
    "\n",
    "In addition to the basic methods, implement : clear, display, count and toArray.\n",
    "\n",
    "* **clear()**: Removes all objects from the Queue.\n",
    "* **contains(Object)**: Determines whether an element is in the Queue.\n",
    "* **display()**: Returns a string that represents the current Queue. (Inherited from Object)\n",
    "* **ToArray()**: Copies the Queue to a new array.\n"
   ]
  },
  {
   "cell_type": "markdown",
   "metadata": {
    "id": "ZJlve-vayunw"
   },
   "source": [
    "Q3.1 **Approach:**\n",
    "\n",
    "Here I have used a singly linked list to implement a queue, with two pointers — one pointing to the head or front of the queue and another pointing at the tail or the rear end of the queue.\n",
    "\n",
    "Now since a queue follows FIFO, i.e., First In First Out, we need to make sure the addition of a new node is done at the end of the list and removal should be done from the front, and that too in constant time.\n",
    "\n",
    "Therefore, maintaining the two pointers, we can perform these operations in O(1) as we will not need to traverse the list.\n",
    "\n",
    "Here also, a doubly linked list is not required — rather, it will be an overhead as we do not need backward propagation through the list.  \n",
    "And so, using a singly linked list is sufficient to implement a queue.\n",
    "\n"
   ]
  },
  {
   "cell_type": "code",
   "execution_count": 85,
   "metadata": {
    "id": "8jhPmYqQsOfj"
   },
   "outputs": [],
   "source": [
    "#Q3.2\n",
    "## Elements to add in the Queue\n",
    "class ElementQueue:\n",
    "  def __init__(self, data = None):\n",
    "    self.data = data\n",
    "    self.next = None\n",
    "\n",
    "\n",
    "class Queue:\n",
    "  def __init__(self):\n",
    "    self.head = None  # Points to the front of the queue (where deque will occur)\n",
    "    self.tail = None  # Points to the rear of the queue (where enqueue will occur)\n",
    "\n",
    "  # Adds an element to the end of the Queue.\n",
    "  def enqueue(self,value):\n",
    "    newElmnt = ElementQueue(value)\n",
    "    if self.tail is None:\n",
    "        # Queue is empty, so both head and tail point to the new element\n",
    "        self.head = self.tail = newElmnt\n",
    "    else:\n",
    "        # update tail pointer where the new node is appended\n",
    "        self.tail.next = newElmnt\n",
    "        self.tail = newElmnt\n",
    "\n",
    "  # Removes the oldest element from the start of the Queue.\n",
    "  def dequeue(self):\n",
    "    if self.head is None:\n",
    "        return None\n",
    "    removed = self.head\n",
    "    self.head = self.head.next\n",
    "    if self.head is None:\n",
    "        # If queue is empty, reset tail\n",
    "        self.tail = None\n",
    "    return removed.data\n",
    "\n",
    "  # Returns the oldest element that is at the start of the Queue but does not remove it from the Queue.\n",
    "  def peek(self):\n",
    "    if self.head is None:\n",
    "        return None\n",
    "    return self.head.data\n",
    "\n",
    "\n",
    "  #Removes all objects from the Queue.\n",
    "  def clear(self):\n",
    "    self.head = None\n",
    "    self.tail = None\n",
    "\n",
    "\n",
    "  # Returns a string that represents the Queue. (Inherited from Object)\n",
    "  def display(self):\n",
    "    if self.head is None:\n",
    "        print(\"{} ->\", end=\"\\n\")\n",
    "        return\n",
    "    currNode = self.head\n",
    "    while currNode:\n",
    "        print(\"{}->\".format(currNode.data), end=\" \")\n",
    "        currNode = currNode.next\n",
    "    print(\"None\")\n",
    "\n",
    "\n",
    "  #Determines whether an element is in the Queue.\n",
    "  def contains(self,value):\n",
    "    currNode = self.head\n",
    "    while currNode:\n",
    "        if currNode.data == value:\n",
    "            return True\n",
    "        currNode = currNode.next\n",
    "    return False\n",
    "\n",
    "  # Copies the Queue to a new array.\n",
    "  def toArray(self):\n",
    "    res_arr = []\n",
    "    currNode = self.head\n",
    "    while currNode:\n",
    "        res_arr.append(currNode.data)\n",
    "        currNode = currNode.next\n",
    "    return res_arr"
   ]
  },
  {
   "cell_type": "code",
   "execution_count": 86,
   "metadata": {
    "id": "h7kEtCXdrcUO"
   },
   "outputs": [],
   "source": [
    "ll_queue = Queue()\n",
    "ll_queue.enqueue(12)\n",
    "ll_queue.enqueue(3)\n",
    "ll_queue.enqueue(7)\n",
    "ll_queue.enqueue(5)\n",
    "ll_queue.enqueue(23)\n",
    "ll_queue.enqueue(47)\n",
    "ll_queue.enqueue(50)"
   ]
  },
  {
   "cell_type": "code",
   "execution_count": 87,
   "metadata": {
    "colab": {
     "base_uri": "https://localhost:8080/"
    },
    "id": "2BTx_QfnrlRD",
    "outputId": "0a672048-205a-4232-c4c7-688c06068a35"
   },
   "outputs": [
    {
     "name": "stdout",
     "output_type": "stream",
     "text": [
      "12-> 3-> 7-> 5-> 23-> 47-> 50-> None\n"
     ]
    }
   ],
   "source": [
    "ll_queue.display()"
   ]
  },
  {
   "cell_type": "code",
   "execution_count": 88,
   "metadata": {
    "colab": {
     "base_uri": "https://localhost:8080/"
    },
    "id": "x7jbMBOPrlXY",
    "outputId": "aae7bd0a-44b4-4823-c34d-829c146561c3"
   },
   "outputs": [
    {
     "name": "stdout",
     "output_type": "stream",
     "text": [
      "7-> 5-> 23-> 47-> 50-> None\n"
     ]
    }
   ],
   "source": [
    "ll_queue.dequeue()\n",
    "ll_queue.dequeue()\n",
    "ll_queue.display()"
   ]
  },
  {
   "cell_type": "code",
   "execution_count": 89,
   "metadata": {
    "colab": {
     "base_uri": "https://localhost:8080/"
    },
    "id": "U0Xdkzw8rla0",
    "outputId": "1e1ab484-2a85-48c9-f7f4-48ad3d30f8f7"
   },
   "outputs": [
    {
     "name": "stdout",
     "output_type": "stream",
     "text": [
      "7-> 5-> 23-> 47-> 50-> None\n"
     ]
    }
   ],
   "source": [
    "ll_queue.peek()\n",
    "ll_queue.display()"
   ]
  },
  {
   "cell_type": "code",
   "execution_count": 90,
   "metadata": {
    "colab": {
     "base_uri": "https://localhost:8080/"
    },
    "id": "WH-jCjp6rlc0",
    "outputId": "163d8ee8-9e65-47c7-d7f0-ef8ebb4b56c9"
   },
   "outputs": [
    {
     "name": "stdout",
     "output_type": "stream",
     "text": [
      "Stack contains 5\n"
     ]
    }
   ],
   "source": [
    "f = lambda x: f\"Stack contains {x}\" if ll_queue.contains(x) else f\"Stack does not contain {x}\"\n",
    "\n",
    "print(f(5))"
   ]
  },
  {
   "cell_type": "code",
   "execution_count": 91,
   "metadata": {
    "colab": {
     "base_uri": "https://localhost:8080/"
    },
    "id": "NPcTko6Gr5ya",
    "outputId": "391a06cb-d2c4-496a-a9e3-de0be87310ce"
   },
   "outputs": [
    {
     "data": {
      "text/plain": [
       "[7, 5, 23, 47, 50]"
      ]
     },
     "execution_count": 91,
     "metadata": {},
     "output_type": "execute_result"
    }
   ],
   "source": [
    "ll_queue.toArray()"
   ]
  },
  {
   "cell_type": "markdown",
   "metadata": {
    "id": "qbCOE4Avc0G6"
   },
   "source": [
    "#### 5. Stacks/Queue Use in reversing a string."
   ]
  },
  {
   "cell_type": "markdown",
   "metadata": {
    "id": "2-AjCS4mc6J_"
   },
   "source": [
    "Using your Data Structure for Stacks or Queue write a code to reverse a string. Spaces on leading/tailing will be ignored.\n",
    "\n",
    "\n",
    "Input: “GeeksQuiz”\n",
    "Output:“ziuQskeeG”\n"
   ]
  },
  {
   "cell_type": "code",
   "execution_count": 92,
   "metadata": {
    "id": "0wUnvxO2czsE"
   },
   "outputs": [],
   "source": [
    "#Your Code here.\n",
    "def reverse_using_stack(input_str):\n",
    "    char_stack = Stack()\n",
    "    char_str = input_str.strip()\n",
    "    reversed_str = ''\n",
    "\n",
    "    if len(char_str) <= 1:\n",
    "        print(f'The reversed string of the input \"{input_str}\" is \"{reversed_str}\"')\n",
    "        return char_str\n",
    "\n",
    "    for char in char_str:\n",
    "        char_stack.push(char)\n",
    "\n",
    "    while char_stack.head is not None:\n",
    "        reversed_str += char_stack.pop().data\n",
    "    print(f'The reversed string of the input \"{input_str}\" is \"{reversed_str}\"')\n",
    "    return reversed_str"
   ]
  },
  {
   "cell_type": "markdown",
   "metadata": {
    "id": "K_6B8TtasNb7"
   },
   "source": [
    "**Comment:**\n",
    "\n",
    "So here, I went with the stack implementation because it felt the most intuitive and simple to me. I could’ve used a queue with a doubly linked list instead — like, by enqueuing the characters and then starting from the tail, using the `prev` pointers to move backward and build the reversed string.\n",
    "That would’ve worked too, and the time complexity would be the same. But using a stack just made more sense for this task, and it’s quicker to execute as well."
   ]
  },
  {
   "cell_type": "markdown",
   "metadata": {
    "id": "gTKSGDboy71f"
   },
   "source": [
    "#### 6. Using the DoubleLinkedList"
   ]
  },
  {
   "cell_type": "markdown",
   "metadata": {
    "id": "bw54SZ9yzAyl"
   },
   "source": [
    "Provide a code to fill out a DoubleLinkList\n",
    "\n",
    "* Q5.1 Fill out with a standard 52-card deck. (https://en.wikipedia.org/wiki/Standard_52-card_deck). You can represent each card as a string.\n",
    "* Q5.2 display the deck on screen\n",
    "* Q5.3 Shuflle the deck and display the result\n",
    "* Q5.4 take the firt 12 cards, add them to an array and show the deck (remains cards)\n"
   ]
  },
  {
   "cell_type": "code",
   "execution_count": 93,
   "metadata": {
    "id": "8MGOtXRszm2l"
   },
   "outputs": [],
   "source": [
    "#Q5.1\n",
    "\n",
    "def standard_card_deck():\n",
    "    ll_card_deck = DoubleLinkedList()\n",
    "    suit_list = ['Clubs', 'Diamonds', 'Hearts', 'Spades']\n",
    "    rank_list = ['2', '3', '4', '5', '6', '7', '8', '9', '10', 'J', 'Q', 'K', 'A']\n",
    "\n",
    "    for s in suit_list:\n",
    "        for r in rank_list:\n",
    "            ll_card_deck.append(r + s)\n",
    "\n",
    "    return ll_card_deck"
   ]
  },
  {
   "cell_type": "code",
   "execution_count": 94,
   "metadata": {
    "colab": {
     "base_uri": "https://localhost:8080/"
    },
    "id": "RBfy4NXWscIM",
    "outputId": "f4bfe594-779a-4bbe-8468-0e833f583b35"
   },
   "outputs": [
    {
     "name": "stdout",
     "output_type": "stream",
     "text": [
      "{}-> 2Clubs <-> 3Clubs <-> 4Clubs <-> 5Clubs <-> 6Clubs <-> 7Clubs <-> 8Clubs <-> 9Clubs <-> 10Clubs <-> JClubs <-> QClubs <-> KClubs <-> AClubs <-> 2Diamonds <-> 3Diamonds <-> 4Diamonds <-> 5Diamonds <-> 6Diamonds <-> 7Diamonds <-> 8Diamonds <-> 9Diamonds <-> 10Diamonds <-> JDiamonds <-> QDiamonds <-> KDiamonds <-> ADiamonds <-> 2Hearts <-> 3Hearts <-> 4Hearts <-> 5Hearts <-> 6Hearts <-> 7Hearts <-> 8Hearts <-> 9Hearts <-> 10Hearts <-> JHearts <-> QHearts <-> KHearts <-> AHearts <-> 2Spades <-> 3Spades <-> 4Spades <-> 5Spades <-> 6Spades <-> 7Spades <-> 8Spades <-> 9Spades <-> 10Spades <-> JSpades <-> QSpades <-> KSpades <-> ASpades "
     ]
    }
   ],
   "source": [
    "#Q5.2\n",
    "\n",
    "ll_card_deck = standard_card_deck()\n",
    "ll_card_deck.__str__()"
   ]
  },
  {
   "cell_type": "code",
   "execution_count": 95,
   "metadata": {
    "colab": {
     "base_uri": "https://localhost:8080/"
    },
    "id": "PDLShi3oskSf",
    "outputId": "77f9bd50-d14c-4645-d29d-07dd41eede09"
   },
   "outputs": [
    {
     "name": "stdout",
     "output_type": "stream",
     "text": [
      "{}-> QDiamonds <-> 2Diamonds <-> JSpades <-> 6Diamonds <-> 8Clubs <-> ADiamonds <-> 8Diamonds <-> 3Clubs <-> 10Spades <-> ASpades <-> 6Spades <-> JClubs <-> 5Clubs <-> 4Clubs <-> AClubs <-> 7Hearts <-> 9Diamonds <-> 5Hearts <-> QHearts <-> 6Hearts <-> 10Clubs <-> QClubs <-> 6Clubs <-> 7Clubs <-> 5Spades <-> 9Clubs <-> 4Diamonds <-> 2Clubs <-> 10Hearts <-> 4Spades <-> 3Diamonds <-> JHearts <-> 10Diamonds <-> QSpades <-> 9Spades <-> 7Spades <-> AHearts <-> 8Hearts <-> KHearts <-> JDiamonds <-> 2Hearts <-> 3Hearts <-> 9Hearts <-> 3Spades <-> 8Spades <-> 5Diamonds <-> KClubs <-> 7Diamonds <-> 4Hearts <-> KSpades <-> 2Spades <-> KDiamonds "
     ]
    }
   ],
   "source": [
    "#Q5.3\n",
    "ll_card_deck.shuffle()\n",
    "ll_card_deck.__str__()"
   ]
  },
  {
   "cell_type": "code",
   "execution_count": 96,
   "metadata": {
    "id": "cU1shhmusqBl"
   },
   "outputs": [],
   "source": [
    "#Q5.4\n",
    "\n",
    "def get_remaining_after_card_removal(doubleyLinkedList):\n",
    "    # Removing the first 12 cards\n",
    "    for _ in range(12):\n",
    "        doubleyLinkedList.removeAt(0)\n",
    "    return doubleyLinkedList"
   ]
  },
  {
   "cell_type": "code",
   "execution_count": 97,
   "metadata": {
    "colab": {
     "base_uri": "https://localhost:8080/"
    },
    "id": "gQ__JzQWsvJn",
    "outputId": "fb54be7e-3a7f-4cd0-c0cc-65242ef916db"
   },
   "outputs": [
    {
     "name": "stdout",
     "output_type": "stream",
     "text": [
      "{}-> 5Clubs <-> 4Clubs <-> AClubs <-> 7Hearts <-> 9Diamonds <-> 5Hearts <-> QHearts <-> 6Hearts <-> 10Clubs <-> QClubs <-> 6Clubs <-> 7Clubs <-> 5Spades <-> 9Clubs <-> 4Diamonds <-> 2Clubs <-> 10Hearts <-> 4Spades <-> 3Diamonds <-> JHearts <-> 10Diamonds <-> QSpades <-> 9Spades <-> 7Spades <-> AHearts <-> 8Hearts <-> KHearts <-> JDiamonds <-> 2Hearts <-> 3Hearts <-> 9Hearts <-> 3Spades <-> 8Spades <-> 5Diamonds <-> KClubs <-> 7Diamonds <-> 4Hearts <-> KSpades <-> 2Spades <-> KDiamonds "
     ]
    }
   ],
   "source": [
    "remaining_ll_card_deck = get_remaining_after_card_removal(ll_card_deck)\n",
    "ll_card_deck.__str__()"
   ]
  },
  {
   "cell_type": "markdown",
   "metadata": {
    "id": "yz03xb0KiS3J"
   },
   "source": [
    "#### 7. Implement a Queue using two Stacks\n"
   ]
  },
  {
   "cell_type": "markdown",
   "metadata": {
    "id": "caDgUSekiyeB"
   },
   "source": [
    "This is a tipical interview question for a SWE/DS position.\n",
    "\n",
    "You must to use your stack data structure implementation to solve the implementation of a new Queue.\n",
    "\n",
    "* Q6.1 describe your approach (2-3 paragraphs)\n",
    "* Q6.2 Write your code."
   ]
  },
  {
   "cell_type": "markdown",
   "metadata": {
    "id": "2Pw4dvIvtV9M"
   },
   "source": [
    "Q6.1. **Approach**:\n",
    "\n",
    "The goal here is to implement a queue using two stacks. We are essentially altering the original behavior of a stack, which is Last In First Out (LIFO), to implement a queue with the behavior of First In First Out (FIFO).\n",
    "\n",
    "Now let's discuss how we are able to achieve this using two stacks:\n",
    "\n",
    "- We are using two stacks and naming them based on their purpose: the first one is called `push_stack`, and the other is `pop_stack`. The `push_stack` is used to add a new element, while the `pop_stack` is used to remove an element.\n",
    "\n",
    "- Every time we add an item, it goes onto the `push_stack`. When it's time to remove an item, we move everything from `push_stack` to `pop_stack`, which reverses the order and puts the first-in element at the top — just like how a real queue works.\n",
    "\n",
    "Now the important part to keep in mind here is that this reversal only occurs when needed, i.e., when the `pop_stack` is empty. If `pop_stack` already has elements, we don’t need to transfer anything from the `push_stack`. That means we rarely have to perform the transfer, which keeps the process efficient and ensures the average time complexity of the dequeue operation remains low.\n",
    "\n",
    "- Here, enqueue is always instant, and removing (dequeue) is quick most of the time — with occasional element transfer when the `pop_stack` runs empty.  \n",
    "Thus, we maintain the expected behavior of a queue by dividing the workload between two stacks, resulting in a clean and efficient implementation."
   ]
  },
  {
   "cell_type": "code",
   "execution_count": 98,
   "metadata": {
    "id": "YNDJOPers6au"
   },
   "outputs": [],
   "source": [
    "#Q6.2\n",
    "## Queue implementation using two stacks\n",
    "class NewQueue:\n",
    "  def __init__(self):\n",
    "    # This handles enqueue operations\n",
    "    self.push_stack = Stack()\n",
    "    # This handels dequeue operations\n",
    "    self.pop_stack = Stack()\n",
    "\n",
    "  # Adds an element to the end of the Queue.\n",
    "  def enqueue(self,value):\n",
    "     # Push the value onto the push_stack\n",
    "    self.push_stack.push(value)\n",
    "\n",
    "  # Removes the oldest element from the start of the Queue.\n",
    "  def dequeue(self):\n",
    "    # If pop_stack is empty, we need to transfer all elements from push_stack to pop_stack\n",
    "    # This reversal puts the queue's front elements on top of pop_stack for the first to be popped\n",
    "    if self.pop_stack.peek() is None:\n",
    "        while self.push_stack.peek() is not None:\n",
    "            self.pop_stack.push(self.push_stack.pop().data)\n",
    "\n",
    "    # If pop_stack is still empty after transfer, the queue was empty\n",
    "    if self.pop_stack.peek() is None:\n",
    "        return None\n",
    "    return self.pop_stack.pop().data\n",
    "\n",
    "  # Returns the oldest element that is at the start of the Queue but does not remove it from the Queue.\n",
    "  def peek(self):\n",
    "    if self.pop_stack.peek() is None:\n",
    "        while self.push_stack.peek() is not None:\n",
    "            self.pop_stack.push(self.push_stack.pop().data)\n",
    "    return self.pop_stack.peek()\n",
    "\n",
    "\n",
    "  #Removes all objects from the Queue.\n",
    "  def clear(self):\n",
    "    self.push_stack.clear()\n",
    "    self.pop_stack.clear()\n",
    "\n",
    "\n",
    "  # Returns a string that represents the Queue. (Inherited from Object)\n",
    "  def display(self):\n",
    "    # In pop stack the elements are already in the correct order\n",
    "    pop_list = self.pop_stack.toArray()\n",
    "    # In push stack the elements are in reverse order and needs to be corrected\n",
    "    push_list = self.push_stack.toArray()\n",
    "    reversed_push_list = []\n",
    "\n",
    "    # Reverse push_list\n",
    "    for index in range(len(push_list) - 1, -1, -1):\n",
    "        reversed_push_list.append(push_list[index])\n",
    "\n",
    "    full_queue = pop_list + reversed_push_list\n",
    "\n",
    "    if not full_queue:\n",
    "        print(\"{}\")\n",
    "        return\n",
    "\n",
    "    for i in range(len(full_queue)):\n",
    "        print(f\"{full_queue[i]}\", end=\"\")\n",
    "        if i != len(full_queue) - 1:\n",
    "            print(\"->\", end=\" \")\n",
    "    print()\n",
    "\n",
    "  #Determines whether an element is in the Queue.\n",
    "  def contains(self,value):\n",
    "     # Checks whether a value exists in either stack\n",
    "    return self.push_stack.contains(value) or self.pop_stack.contains(value)\n",
    "\n",
    "  # Copies the Queue to a new array.\n",
    "  def toArray(self):\n",
    "    pop_list = self.pop_stack.toArray()\n",
    "    push_list = self.push_stack.toArray()\n",
    "    reversed_push_list = []\n",
    "\n",
    "    # Reverse push_list for correct order before appending\n",
    "    for index in range(len(push_list) - 1, -1, -1):\n",
    "        reversed_push_list.append(push_list[index])\n",
    "\n",
    "    return pop_list + reversed_push_list"
   ]
  },
  {
   "cell_type": "code",
   "execution_count": 99,
   "metadata": {
    "id": "VX2P_MMitKPi"
   },
   "outputs": [],
   "source": [
    "ll_nq = NewQueue()\n",
    "ll_nq.enqueue(12)\n",
    "ll_nq.enqueue(3)\n",
    "ll_nq.enqueue(7)\n",
    "ll_nq.enqueue(5)\n",
    "ll_nq.enqueue(23)\n",
    "ll_nq.enqueue(47)\n",
    "ll_nq.enqueue(50)"
   ]
  },
  {
   "cell_type": "code",
   "execution_count": 100,
   "metadata": {
    "colab": {
     "base_uri": "https://localhost:8080/"
    },
    "id": "jo_NBtoQti4B",
    "outputId": "e55b0226-fc65-4c20-fde6-7bd468b764d6"
   },
   "outputs": [
    {
     "name": "stdout",
     "output_type": "stream",
     "text": [
      "12-> 3-> 7-> 5-> 23-> 47-> 50\n"
     ]
    }
   ],
   "source": [
    "ll_nq.display()"
   ]
  },
  {
   "cell_type": "code",
   "execution_count": 101,
   "metadata": {
    "colab": {
     "base_uri": "https://localhost:8080/"
    },
    "id": "tE0-8Zt9tk94",
    "outputId": "2d9c4744-77aa-4889-d939-0a4b2bdb5113"
   },
   "outputs": [
    {
     "name": "stdout",
     "output_type": "stream",
     "text": [
      "7-> 5-> 23-> 47-> 50\n"
     ]
    }
   ],
   "source": [
    "ll_nq.dequeue()\n",
    "ll_nq.dequeue()\n",
    "ll_nq.display()"
   ]
  },
  {
   "cell_type": "code",
   "execution_count": 102,
   "metadata": {
    "colab": {
     "base_uri": "https://localhost:8080/"
    },
    "id": "DGZmfEfntnMj",
    "outputId": "e4a46332-9267-4a7a-9db6-296d22721952"
   },
   "outputs": [
    {
     "name": "stdout",
     "output_type": "stream",
     "text": [
      "7-> 5-> 23-> 47-> 50\n"
     ]
    }
   ],
   "source": [
    "ll_nq.peek()\n",
    "ll_nq.display()"
   ]
  },
  {
   "cell_type": "code",
   "execution_count": 103,
   "metadata": {
    "colab": {
     "base_uri": "https://localhost:8080/"
    },
    "id": "xNQ3PgK5tpYM",
    "outputId": "66e05b1e-541e-48dd-e576-78b5fa1142d0"
   },
   "outputs": [
    {
     "name": "stdout",
     "output_type": "stream",
     "text": [
      "Queue contains 5\n"
     ]
    }
   ],
   "source": [
    "f = lambda x: f\"Queue contains {x}\" if ll_nq.contains(x) else f\"Queue does not contain {x}\"\n",
    "\n",
    "print(f(5))"
   ]
  },
  {
   "cell_type": "code",
   "execution_count": 104,
   "metadata": {
    "colab": {
     "base_uri": "https://localhost:8080/"
    },
    "id": "FnmSDFLNtyGu",
    "outputId": "e3f0637d-e401-471e-fd03-382e0dc6eeb7"
   },
   "outputs": [
    {
     "data": {
      "text/plain": [
       "[7, 5, 23, 47, 50]"
      ]
     },
     "execution_count": 104,
     "metadata": {},
     "output_type": "execute_result"
    }
   ],
   "source": [
    "ll_nq.toArray()"
   ]
  },
  {
   "cell_type": "markdown",
   "metadata": {
    "id": "mjfrHJglDoQu"
   },
   "source": [
    "#### 8. Music Library (Playlist - Infinity loop)"
   ]
  },
  {
   "cell_type": "markdown",
   "metadata": {
    "id": "RjAw6CKaDt-J"
   },
   "source": [
    "Problem:\n",
    "* Implement a Song class with attributes Title, Duration, Artist, Album\n",
    "\n",
    "* Implement a circular linked list.\n",
    "\n",
    "* Create a playlist (no less than 10 songs)\n",
    "\n",
    "* Simulate a process to play the list (loop) of this playlist by hours long. Diplay the current song title, artist, album.\n",
    "\n",
    "* The play list will stop when reach the limit time (2 hours of music time\n",
    "\n",
    "* You **must to use a circular linked list** to solve your problem.\n",
    "* You are no allow to alter the order (no shuffle).\n",
    "\n",
    "Questions:\n",
    "\n",
    "* Q81. Describe your solution (3-4 paragraphs)\n",
    "* Q8.2 write your code for the data structure (song and playlist structure)\n",
    "* Q8.3 write the code to play the Playlist for a 2 hours\n",
    "\n",
    "\n",
    "**Note**: Modify the time scale to define one minute of simulation equal to one hour of playing music."
   ]
  },
  {
   "cell_type": "markdown",
   "metadata": {
    "id": "gpb615jUFE3S"
   },
   "source": [
    "Q7.1\n",
    "\n",
    "**Solution**\n",
    "\n",
    "To create a simulation of a music playlist, I have implemented the `Song` class that encapsulates the attributes of a song: title, duration (in minutes), artist, and album. Here, I have overridden the `__str__()` method to easily print the song's attributes later in the code without having to access them individually through the song object.\n",
    "\n",
    "- To implement the actual playlist, I used a circular doubly linked list, ensuring that once the end of the list is reached, the playlist continues from the beginning without any manual reset.\n",
    "\n",
    "- I used a doubly linked list (`CircularDoublyLinkedList`) to add features like play previous and play next — more like rewind and fast-forward buttons.\n",
    "\n",
    "- I defined another class, `ListNode`, where each song is stored. It includes both a next and a previous pointer to make the list doubly linked.\n",
    "\n",
    "- The playlist keeps track of the current song being played and the total amount of time music has been played during the simulation.\n",
    "\n",
    "- The `CircularDoublyLinkedList` has methods like `play()`, which takes the remaining time left (until the 2-hour limit) and plays either the full song or only the portion that fits within the time constraint. It updates the `total_played_time` accordingly and returns both the song and the amount of time played. The `play_next()` and `play_previous()` methods use this logic to simulate skipping forward or backward while maintaining consistent playback behavior.\n",
    "\n",
    "- The `play_playlist_for_two_hours()` function is the actual main function for the simulation. This is where the `play()` method is called in a loop until the `total_played_time` reaches two hours. It prints each song being played and, in the case of partial playback, indicates how much of the song was played."
   ]
  },
  {
   "cell_type": "code",
   "execution_count": 105,
   "metadata": {
    "id": "nubU5uRsFEMi"
   },
   "outputs": [],
   "source": [
    "#Q7.2 your code Here\n",
    "class Song:\n",
    "\n",
    "    def __init__(self, title, duration, artist, album):\n",
    "        self.title = title\n",
    "        self.duration = duration\n",
    "        self.artist = artist\n",
    "        self.album = album\n",
    "\n",
    "    def __str__(self):\n",
    "        # Readable display\n",
    "        return f\"{self.title} : {self.artist}, ({self.album}), [{self.duration} min]\"\n",
    "\n",
    "class ListNode:\n",
    "    def __init__(self, song):\n",
    "        self.song = song\n",
    "        self.next = None\n",
    "        self.prev = None\n",
    "\n",
    "class CircularDoublyLinkedList:\n",
    "    def __init__(self):\n",
    "        self.head = None\n",
    "        self.tail = None\n",
    "        self.current = None\n",
    "        # Total time songs have been played for a single simulation\n",
    "        self.total_played_time = 0\n",
    "\n",
    "    def add_song(self, song):\n",
    "        new_node = ListNode(song)\n",
    "        if not self.head:\n",
    "           # When the first song is added, it becomes head and tail and thus links to itself\n",
    "            self.head = self.tail = new_node\n",
    "            new_node.next = new_node.prev = new_node\n",
    "        else:\n",
    "           # Insert new node at the end and update links to maintain the circular linked list\n",
    "            new_node.prev = self.tail\n",
    "            new_node.next = self.head\n",
    "            self.tail.next = new_node\n",
    "            self.head.prev = new_node\n",
    "            self.tail = new_node\n",
    "\n",
    "    def play(self, time_left):\n",
    "        if not self.head:\n",
    "            return None, 0\n",
    "        # If no song is currently playing then start from the beginning\n",
    "        if not self.current:\n",
    "            self.current = self.head\n",
    "\n",
    "        song = self.current.song\n",
    "        duration_to_play = min(song.duration, time_left)\n",
    "\n",
    "        self.total_played_time += duration_to_play\n",
    "        self.current = self.current.next\n",
    "        return song, duration_to_play\n",
    "\n",
    "    # Moves forward and plays the next song when asked to fast forward\n",
    "    def play_next(self, time_left):\n",
    "        if not self.current:\n",
    "            self.current = self.head\n",
    "        else:\n",
    "            self.current = self.current.next\n",
    "        # Call play() from current node onward\n",
    "        return self.play(time_left)\n",
    "\n",
    "    # Moves backward and plays the previous song when asked to rewind\n",
    "    def play_previous(self, time_left):\n",
    "        if not self.current:\n",
    "            self.current = self.head\n",
    "        else:\n",
    "            self.current = self.current.prev\n",
    "        # Call play() from current node backward\n",
    "        return self.play(time_left)\n"
   ]
  },
  {
   "cell_type": "code",
   "execution_count": 106,
   "metadata": {
    "id": "lFX4mRecDsAV"
   },
   "outputs": [],
   "source": [
    "#Q7.3 Your Code Here\n",
    "def play_playlist_for_two_hours(playlist):\n",
    "    if not playlist.head:\n",
    "        print(\"The playlist is empty.\")\n",
    "        return\n",
    "\n",
    "    print(\"\\nSimulating playlist playback for 2 hours...\\n\")\n",
    "\n",
    "    while playlist.total_played_time < 120:\n",
    "        time_left = 120 - playlist.total_played_time\n",
    "        song, played = playlist.play(time_left)\n",
    "        # If there are no songs in the song object then we can just skip to the end\n",
    "        if song is None or played == 0:\n",
    "            break\n",
    "\n",
    "        # Only some part of the song was played due to time limit\n",
    "        if played < song.duration:\n",
    "            print(f\"Now Playing: {song}; Played for: {played} min\")\n",
    "        else:\n",
    "            # Full song was played\n",
    "            print(f\"Now Playing: {song}\")\n",
    "\n",
    "    print(f\"\\nFinished: Total simulated play time: {playlist.total_played_time} minutes\")\n"
   ]
  },
  {
   "cell_type": "code",
   "execution_count": 107,
   "metadata": {
    "colab": {
     "base_uri": "https://localhost:8080/"
    },
    "id": "YRaUn3C1MAy7",
    "outputId": "192f75ce-1c08-4aa3-cafd-73f8bf49ef6f"
   },
   "outputs": [
    {
     "name": "stdout",
     "output_type": "stream",
     "text": [
      "\n",
      "Simulating playlist playback for 2 hours...\n",
      "\n",
      "Now Playing: Imagine : John Lennon, (Imagine), [3 min]\n",
      "Now Playing: Me and Bobby McGee : Kris Kristofferson, (Kristofferson), [4 min]\n",
      "Now Playing: Sugar Man : Sixto Rodriguez, (Cold Fact), [3 min]\n",
      "Now Playing: Society : Eddie Vedder, (Into the Wild), [3 min]\n",
      "Now Playing: Take Me Home, Country Roads : John Denver, (Poems, Prayers & Promises), [3 min]\n",
      "Now Playing: The Pilgrim, Chapter 33 : Kris Kristofferson, (The Silver Tongued Devil and I), [3 min]\n",
      "Now Playing: Jealous Guy : John Lennon, (Imagine), [4 min]\n",
      "Now Playing: Annie's Song : John Denver, (Back Home Again), [3 min]\n",
      "Now Playing: I Walk the Line : Johnny Cash, (I Walk the Line), [3 min]\n",
      "Now Playing: I Wonder : Sixto Rodriguez, (Cold Fact), [2 min]\n",
      "Now Playing: Hard Sun : Eddie Vedder, (Into the Wild), [5 min]\n",
      "Now Playing: Working Class Hero : John Lennon, (John Lennon/Plastic Ono Band), [3 min]\n",
      "Now Playing: Rocky Mountain High : John Denver, (Rocky Mountain High), [4 min]\n",
      "Now Playing: Imagine : John Lennon, (Imagine), [3 min]\n",
      "Now Playing: Me and Bobby McGee : Kris Kristofferson, (Kristofferson), [4 min]\n",
      "Now Playing: Sugar Man : Sixto Rodriguez, (Cold Fact), [3 min]\n",
      "Now Playing: Society : Eddie Vedder, (Into the Wild), [3 min]\n",
      "Now Playing: Take Me Home, Country Roads : John Denver, (Poems, Prayers & Promises), [3 min]\n",
      "Now Playing: The Pilgrim, Chapter 33 : Kris Kristofferson, (The Silver Tongued Devil and I), [3 min]\n",
      "Now Playing: Jealous Guy : John Lennon, (Imagine), [4 min]\n",
      "Now Playing: Annie's Song : John Denver, (Back Home Again), [3 min]\n",
      "Now Playing: I Walk the Line : Johnny Cash, (I Walk the Line), [3 min]\n",
      "Now Playing: I Wonder : Sixto Rodriguez, (Cold Fact), [2 min]\n",
      "Now Playing: Hard Sun : Eddie Vedder, (Into the Wild), [5 min]\n",
      "Now Playing: Working Class Hero : John Lennon, (John Lennon/Plastic Ono Band), [3 min]\n",
      "Now Playing: Rocky Mountain High : John Denver, (Rocky Mountain High), [4 min]\n",
      "Now Playing: Imagine : John Lennon, (Imagine), [3 min]\n",
      "Now Playing: Me and Bobby McGee : Kris Kristofferson, (Kristofferson), [4 min]\n",
      "Now Playing: Sugar Man : Sixto Rodriguez, (Cold Fact), [3 min]\n",
      "Now Playing: Society : Eddie Vedder, (Into the Wild), [3 min]\n",
      "Now Playing: Take Me Home, Country Roads : John Denver, (Poems, Prayers & Promises), [3 min]\n",
      "Now Playing: The Pilgrim, Chapter 33 : Kris Kristofferson, (The Silver Tongued Devil and I), [3 min]\n",
      "Now Playing: Jealous Guy : John Lennon, (Imagine), [4 min]\n",
      "Now Playing: Annie's Song : John Denver, (Back Home Again), [3 min]\n",
      "Now Playing: I Walk the Line : Johnny Cash, (I Walk the Line), [3 min]\n",
      "Now Playing: I Wonder : Sixto Rodriguez, (Cold Fact), [2 min]\n",
      "Now Playing: Hard Sun : Eddie Vedder, (Into the Wild), [5 min]; Played for: 3 min\n",
      "\n",
      "Finished: Total simulated play time: 120 minutes\n"
     ]
    }
   ],
   "source": [
    "playlist = CircularDoublyLinkedList()\n",
    "playlist.add_song(Song(\"Imagine\", 3, \"John Lennon\", \"Imagine\"))\n",
    "playlist.add_song(Song(\"Me and Bobby McGee\", 4, \"Kris Kristofferson\", \"Kristofferson\"))\n",
    "playlist.add_song(Song(\"Sugar Man\", 3, \"Sixto Rodriguez\", \"Cold Fact\"))\n",
    "playlist.add_song(Song(\"Society\", 3, \"Eddie Vedder\", \"Into the Wild\"))\n",
    "playlist.add_song(Song(\"Take Me Home, Country Roads\", 3, \"John Denver\", \"Poems, Prayers & Promises\"))\n",
    "playlist.add_song(Song(\"The Pilgrim, Chapter 33\", 3, \"Kris Kristofferson\", \"The Silver Tongued Devil and I\"))\n",
    "playlist.add_song(Song(\"Jealous Guy\", 4, \"John Lennon\", \"Imagine\"))\n",
    "playlist.add_song(Song(\"Annie's Song\", 3, \"John Denver\", \"Back Home Again\"))\n",
    "playlist.add_song(Song(\"I Walk the Line\", 3, \"Johnny Cash\", \"I Walk the Line\"))\n",
    "playlist.add_song(Song(\"I Wonder\", 2, \"Sixto Rodriguez\", \"Cold Fact\"))\n",
    "playlist.add_song(Song(\"Hard Sun\", 5, \"Eddie Vedder\", \"Into the Wild\"))\n",
    "playlist.add_song(Song(\"Working Class Hero\", 3, \"John Lennon\", \"John Lennon/Plastic Ono Band\"))\n",
    "playlist.add_song(Song(\"Rocky Mountain High\", 4, \"John Denver\", \"Rocky Mountain High\"))\n",
    "\n",
    "play_playlist_for_two_hours(playlist)"
   ]
  }
 ],
 "metadata": {
  "colab": {
   "provenance": []
  },
  "kernelspec": {
   "display_name": "Python 3 (ipykernel)",
   "language": "python",
   "name": "python3"
  },
  "language_info": {
   "codemirror_mode": {
    "name": "ipython",
    "version": 3
   },
   "file_extension": ".py",
   "mimetype": "text/x-python",
   "name": "python",
   "nbconvert_exporter": "python",
   "pygments_lexer": "ipython3",
   "version": "3.10.8"
  }
 },
 "nbformat": 4,
 "nbformat_minor": 4
}
